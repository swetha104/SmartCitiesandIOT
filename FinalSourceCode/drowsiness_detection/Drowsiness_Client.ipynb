{
 "cells": [
  {
   "cell_type": "code",
   "execution_count": null,
   "metadata": {},
   "outputs": [
    {
     "name": "stdout",
     "output_type": "stream",
     "text": [
      "Connected with Raspberry PI for Drowsiness Detection 0\n",
      "Person Detected b'Pop-up to request permission from the user'\n",
      "Person Detected b'Start monitoring drowsiness factor'\n",
      "Checking for drowsiness\n",
      "Camera Closed\n",
      "Connected with Raspberry PI for Drowsiness Detection 0\n",
      "Person Detected b'Pop-up to request permission from the user'\n",
      "Person Detected b'Start monitoring drowsiness factor'\n",
      "Checking for drowsiness\n",
      "Camera Closed\n",
      "Connected with Raspberry PI for Drowsiness Detection 0\n",
      "Person Detected b'Pop-up to request permission from the user'\n",
      "Person Detected b'Start monitoring drowsiness factor'\n",
      "Checking for drowsiness\n",
      "Camera Closed\n",
      "Connected with Raspberry PI for Drowsiness Detection 0\n",
      "Person Detected b'Pop-up to request permission from the user'\n",
      "Person Detected b'Start monitoring drowsiness factor'\n",
      "Checking for drowsiness\n",
      "Camera Closed\n",
      "Person Detected b'Pop-up to request permission from the user'\n",
      "Person Detected b'Start monitoring drowsiness factor'\n",
      "Checking for drowsiness\n",
      "Camera Closed\n",
      "Connected with Raspberry PI for Drowsiness Detection 0\n",
      "Person Detected b'Pop-up to request permission from the user'\n",
      "Person Detected b'Start monitoring drowsiness factor'\n",
      "Checking for drowsiness\n",
      "Camera Closed\n",
      "Connected with Raspberry PI for Drowsiness Detection 0\n",
      "Person Detected b'Pop-up to request permission from the user'\n",
      "Person Detected b'Start monitoring drowsiness factor'\n",
      "Checking for drowsiness\n",
      "Camera Closed\n",
      "Connected with Raspberry PI for Drowsiness Detection 0\n",
      "Person Detected b'Pop-up to request permission from the user'\n",
      "Person Detected b'Start monitoring drowsiness factor'\n",
      "Checking for drowsiness\n",
      "Camera Closed\n",
      "Connected with Raspberry PI for Drowsiness Detection 0\n",
      "Person Detected b'Pop-up to request permission from the user'\n",
      "Person Detected b'Start monitoring drowsiness factor'\n",
      "Checking for drowsiness\n",
      "Camera Closed\n",
      "Person Detected b'Pop-up to request permission from the user'\n",
      "Person Detected b'Start monitoring drowsiness factor'\n",
      "Checking for drowsiness\n",
      "Camera Closed\n",
      "Connected with Raspberry PI for Drowsiness Detection 0\n",
      "Person Detected b'Pop-up to request permission from the user'\n",
      "Person Detected b'Start monitoring drowsiness factor'\n",
      "Checking for drowsiness\n",
      "Camera Closed\n",
      "Connected with Raspberry PI for Drowsiness Detection 0\n",
      "Person Detected b'Start monitoring drowsiness factor'\n",
      "Checking for drowsiness\n",
      "Camera Closed\n",
      "Connected with Raspberry PI for Drowsiness Detection 0\n",
      "Person Detected b'Pop-up to request permission from the user'\n",
      "Person Detected b'Start monitoring drowsiness factor'\n",
      "Checking for drowsiness\n",
      "Camera Closed\n",
      "Connected with Raspberry PI for Drowsiness Detection 0\n"
     ]
    }
   ],
   "source": [
    "import paho.mqtt.client as mqtt\n",
    "\n",
    "def on_connect(client, userdata, flags, rc):\n",
    "    print(\"Connected with Raspberry PI for Drowsiness Detection \"+str(rc))\n",
    "    client.subscribe(\"Person Detected\")\n",
    "    \n",
    "    \n",
    "def on_message(client, userdata, msg):\n",
    "    print(msg.topic+\" \"+str(msg.payload))\n",
    "    if msg.payload == b\"Start monitoring drowsiness factor\":\n",
    "        print(\"Checking for drowsiness\")\n",
    "        %run Main_Drowsiness_Detection.ipynb\n",
    "            \n",
    "client = mqtt.Client()\n",
    "client.on_connect = on_connect\n",
    "client.on_message = on_message\n",
    " \n",
    "client.connect(\"test.mosquitto.org\", 1883)\n",
    "client.loop_forever()"
   ]
  },
  {
   "cell_type": "code",
   "execution_count": null,
   "metadata": {},
   "outputs": [],
   "source": []
  },
  {
   "cell_type": "code",
   "execution_count": null,
   "metadata": {},
   "outputs": [],
   "source": []
  }
 ],
 "metadata": {
  "kernelspec": {
   "display_name": "Python 3",
   "language": "python",
   "name": "python3"
  },
  "language_info": {
   "codemirror_mode": {
    "name": "ipython",
    "version": 3
   },
   "file_extension": ".py",
   "mimetype": "text/x-python",
   "name": "python",
   "nbconvert_exporter": "python",
   "pygments_lexer": "ipython3",
   "version": "3.7.7"
  }
 },
 "nbformat": 4,
 "nbformat_minor": 4
}
