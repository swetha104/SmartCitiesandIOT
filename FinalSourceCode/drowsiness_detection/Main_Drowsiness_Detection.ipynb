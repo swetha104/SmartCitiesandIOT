{
 "cells": [
  {
   "cell_type": "markdown",
   "metadata": {},
   "source": [
    "# Drowsiness Detection and Employee Alerting System"
   ]
  },
  {
   "cell_type": "code",
   "execution_count": 1,
   "metadata": {},
   "outputs": [],
   "source": [
    "import jedi\n",
    "%config Completer.use_jedi = True\n",
    "from scipy.spatial import distance\n",
    "from imutils import face_utils\n",
    "import imutils\n",
    "import dlib\n",
    "import cv2\n",
    "import numpy as np\n",
    "import pandas as pd\n",
    "from time import sleep\n",
    "import easygui\n",
    "import socket\n",
    "import paho.mqtt.publish as publish\n",
    "import winsound\n",
    "import timeit"
   ]
  },
  {
   "cell_type": "code",
   "execution_count": 2,
   "metadata": {},
   "outputs": [],
   "source": [
    "def eye_aspect_ratio(value):\n",
    "    p2_p6 = distance.euclidean(value[1],value[5])\n",
    "    p3_p5 = distance.euclidean(value[2],value[4])\n",
    "    p1_p4 = distance.euclidean(value[0],value[3])\n",
    "    EAR = (p2_p6 + p3_p5) / (2 * p1_p4)\n",
    "    return EAR"
   ]
  },
  {
   "cell_type": "code",
   "execution_count": 3,
   "metadata": {},
   "outputs": [],
   "source": [
    "threshold_eye = 0.25\n",
    "threshold_mouth = 20\n",
    "frames = 20\n",
    "face_detect = dlib.get_frontal_face_detector()\n",
    "face_predict = dlib.shape_predictor(\"shape_predictor_68_face_landmarks.dat\")"
   ]
  },
  {
   "cell_type": "code",
   "execution_count": 4,
   "metadata": {},
   "outputs": [],
   "source": [
    "(left_index_1,left_index_2) = face_utils.FACIAL_LANDMARKS_IDXS[\"left_eye\"]\n",
    "(right_index_1,right_index_2) = face_utils.FACIAL_LANDMARKS_IDXS[\"right_eye\"]\n",
    "(mouth_index_1,mouth_index_2) = face_utils.FACIAL_LANDMARKS_IDXS[\"mouth\"]"
   ]
  },
  {
   "cell_type": "code",
   "execution_count": 5,
   "metadata": {},
   "outputs": [
    {
     "name": "stdout",
     "output_type": "stream",
     "text": [
      "Camera Closed\n"
     ]
    }
   ],
   "source": [
    "HOST = \"192.168.0.6\"\n",
    "PORT = 5454\n",
    "frequency = 2500  # Set Frequency To 2500 Hertz\n",
    "duration = 1000  # Set Duration To 1000 ms == 1 second\n",
    "capture_video = cv2.VideoCapture(0)\n",
    "access = capture_video.isOpened()\n",
    "\n",
    "if not access:\n",
    "    print(\"Allow webcam to access this application\")\n",
    "    \n",
    "my_list=[]\n",
    "my_list_1=[]\n",
    "my_list_2=[]\n",
    "\n",
    "while access:\n",
    "    ret, frame = capture_video.read()\n",
    "    frame = imutils.resize(frame, width=450)\n",
    "    gray = cv2.cvtColor(frame, cv2.COLOR_BGR2GRAY)\n",
    "    \n",
    "    eye_view = face_detect(gray,0)\n",
    "    for i in eye_view:\n",
    "        face_shape = face_predict(gray,i)\n",
    "        face_shape = face_utils.shape_to_np(face_shape)\n",
    "        \n",
    "        leftEye = face_shape[left_index_1:left_index_2]\n",
    "        rightEye = face_shape[right_index_1:right_index_2]\n",
    "        \n",
    "        leftEAR = eye_aspect_ratio(leftEye)\n",
    "        rightEAR = eye_aspect_ratio(rightEye)\n",
    "        ear = (leftEAR + rightEAR) / 2.0 \n",
    "       \n",
    "        leftEyeHull = cv2.convexHull(leftEye)\n",
    "        rightEyeHull = cv2.convexHull(rightEye)\n",
    "        cv2.drawContours(frame, [leftEyeHull], -1, (0, 255, 0), 1)\n",
    "        cv2.drawContours(frame, [rightEyeHull], -1, (0, 255, 0), 1)\n",
    "        \n",
    "        #s = socket.socket(socket.AF_INET, socket.SOCK_DGRAM)\n",
    "        #s.connect((HOST,PORT))\n",
    "        #if ear > 0:\n",
    "            #s.sendto(ear,(\"192.168.0.6\",5454))\n",
    "        publish.single(\"EAR_Values\", ear, hostname=\"test.mosquitto.org\")\n",
    "           \n",
    "        if ear > threshold_eye:\n",
    "            my_list_1.append(ear)\n",
    "        else:\n",
    "            my_list_2.append(ear)\n",
    "            if len(my_list_2) == 150:\n",
    "                winsound.Beep(frequency, duration)\n",
    "                easygui.msgbox(\"Please wake up!!!!\", title=\"Drowsiness Detection\")\n",
    "                my_list_2.clear()\n",
    "                \n",
    "               \n",
    "    cv2.imshow('frame', frame) \n",
    "   \n",
    "    if cv2.waitKey(1) & 0xFF == ord('q'): \n",
    "        print(\"Camera Closed\")\n",
    "        break\n",
    "        \n",
    "capture_video.release()\n",
    "cv2.destroyAllWindows()"
   ]
  },
  {
   "cell_type": "code",
   "execution_count": null,
   "metadata": {},
   "outputs": [],
   "source": []
  },
  {
   "cell_type": "code",
   "execution_count": null,
   "metadata": {},
   "outputs": [],
   "source": []
  },
  {
   "cell_type": "code",
   "execution_count": null,
   "metadata": {},
   "outputs": [],
   "source": []
  }
 ],
 "metadata": {
  "kernelspec": {
   "display_name": "Python 3",
   "language": "python",
   "name": "python3"
  },
  "language_info": {
   "codemirror_mode": {
    "name": "ipython",
    "version": 3
   },
   "file_extension": ".py",
   "mimetype": "text/x-python",
   "name": "python",
   "nbconvert_exporter": "python",
   "pygments_lexer": "ipython3",
   "version": "3.7.7"
  }
 },
 "nbformat": 4,
 "nbformat_minor": 4
}
